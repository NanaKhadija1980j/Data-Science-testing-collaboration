{
 "cells": [
  {
   "cell_type": "code",
   "execution_count": 1,
   "id": "3668c444-7172-489a-9171-25a9e8bed798",
   "metadata": {},
   "outputs": [],
   "source": [
    "names = (\"paul\", \"Rose\", \"Wale\",\"Khadija\",\"Nina\")"
   ]
  },
  {
   "cell_type": "code",
   "execution_count": 2,
   "id": "18a357ff-0917-4950-b2c9-affe9cdad67a",
   "metadata": {},
   "outputs": [
    {
     "name": "stdout",
     "output_type": "stream",
     "text": [
      "('paul', 'Rose', 'Wale', 'Khadija', 'Nina')\n"
     ]
    }
   ],
   "source": [
    "print(names)"
   ]
  },
  {
   "cell_type": "code",
   "execution_count": null,
   "id": "e833b61f-a4d6-47cc-9f17-bec4219b4fa7",
   "metadata": {},
   "outputs": [],
   "source": []
  }
 ],
 "metadata": {
  "kernelspec": {
   "display_name": "Python [conda env:base] *",
   "language": "python",
   "name": "conda-base-py"
  },
  "language_info": {
   "codemirror_mode": {
    "name": "ipython",
    "version": 3
   },
   "file_extension": ".py",
   "mimetype": "text/x-python",
   "name": "python",
   "nbconvert_exporter": "python",
   "pygments_lexer": "ipython3",
   "version": "3.12.7"
  }
 },
 "nbformat": 4,
 "nbformat_minor": 5
}
