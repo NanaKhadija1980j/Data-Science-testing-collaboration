{
 "cells": [
  {
   "cell_type": "code",
   "execution_count": 3,
   "id": "2c3ac0bb-12fe-4b4c-9a05-84bc8db418d6",
   "metadata": {},
   "outputs": [],
   "source": [
    "names = [\"james\",\"Khadija\",\"Musa\",\"Salami\",\"Ruth\"]"
   ]
  },
  {
   "cell_type": "code",
   "execution_count": 4,
   "id": "9a753d2e-0a1c-4ba0-83e0-e4ce200025f8",
   "metadata": {},
   "outputs": [
    {
     "name": "stdout",
     "output_type": "stream",
     "text": [
      "['james', 'Khadija', 'Musa', 'Salami', 'Ruth']\n"
     ]
    }
   ],
   "source": [
    "print(names)"
   ]
  },
  {
   "cell_type": "code",
   "execution_count": null,
   "id": "8bccd9b6-b121-4215-82e3-e87f54a5e221",
   "metadata": {},
   "outputs": [],
   "source": []
  }
 ],
 "metadata": {
  "kernelspec": {
   "display_name": "Python [conda env:base] *",
   "language": "python",
   "name": "conda-base-py"
  },
  "language_info": {
   "codemirror_mode": {
    "name": "ipython",
    "version": 3
   },
   "file_extension": ".py",
   "mimetype": "text/x-python",
   "name": "python",
   "nbconvert_exporter": "python",
   "pygments_lexer": "ipython3",
   "version": "3.12.7"
  }
 },
 "nbformat": 4,
 "nbformat_minor": 5
}
